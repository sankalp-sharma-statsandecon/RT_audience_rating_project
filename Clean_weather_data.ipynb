{
  "nbformat": 4,
  "nbformat_minor": 0,
  "metadata": {
    "colab": {
      "name": "Untitled0.ipynb",
      "provenance": [],
      "collapsed_sections": [],
      "authorship_tag": "ABX9TyMxHTTss/LWJAwW10hgfv+R"
    },
    "kernelspec": {
      "name": "python3",
      "display_name": "Python 3"
    }
  },
  "cells": [
    {
      "cell_type": "code",
      "metadata": {
        "id": "nJQp6r8J7_wA"
      },
      "source": [
        "import pandas as pd"
      ],
      "execution_count": 3,
      "outputs": []
    },
    {
      "cell_type": "code",
      "metadata": {
        "id": "B3gVZ4UW-1CO"
      },
      "source": [
        " #get list of sheets\n",
        " xl = pd.ExcelFile(\"/content/County_summary_GDD_PDSI_SPEI_SPI_hist_data.xlsx\")\n",
        " xl.sheet_names"
      ],
      "execution_count": null,
      "outputs": []
    },
    {
      "cell_type": "code",
      "metadata": {
        "id": "5-ksq50nAn8C"
      },
      "source": [
        "#test code\n",
        "xl_one = xl.parse(sheet_name=0)\n",
        "xl_one"
      ],
      "execution_count": null,
      "outputs": []
    },
    {
      "cell_type": "code",
      "metadata": {
        "id": "q6WY_l6NBf_9"
      },
      "source": [
        "df = pd.read_excel('/content/County_summary_GDD_PDSI_SPEI_SPI_hist_data.xlsx',\n",
        "                   sheet_name=xl.sheet_names)"
      ],
      "execution_count": 11,
      "outputs": []
    },
    {
      "cell_type": "code",
      "metadata": {
        "id": "6A9VcTo2e1rY"
      },
      "source": [
        "#Prepare_dataframe\n",
        "df_list = []\n",
        "for i in range(len(xl.sheet_names)):\n",
        "  x = pd.read_excel('/content/County_summary_GDD_PDSI_SPEI_SPI_hist_data.xlsx', sheet_name = i)\n",
        "  x['year'] = xl.sheet_names[i]\n",
        "  x = x[1:]\n",
        "  x.iloc[:,4:31] = x.iloc[:,4:31].astype(float)\n",
        "  x['avg_GDD'] = x.iloc[:,4:10].mean(axis = 1)\n",
        "  x['avg_PDSI'] = x.iloc[:,10:16].mean(axis = 1)\n",
        "  x['avg_SPEI'] = x.iloc[:,16:22].mean(axis = 1)\n",
        "  x['avg_SPI'] = x.iloc[:,22:28].mean(axis = 1)\n",
        "  df_list.append(x)\n",
        "\n",
        "dfmain= pd.concat(df_list[frame] for frame in range(len(df_list)))\n",
        "dfmain"
      ],
      "execution_count": null,
      "outputs": []
    },
    {
      "cell_type": "code",
      "metadata": {
        "id": "vgsf0DpC8bQI"
      },
      "source": [
        "compression_opts = dict(method='zip',archive_name='out.csv')\n",
        "dfmain.to_csv('out.zip', index=False, compression=compression_opts)"
      ],
      "execution_count": 66,
      "outputs": []
    }
  ]
}